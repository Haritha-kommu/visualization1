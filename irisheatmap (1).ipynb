{
 "cells": [
  {
   "cell_type": "code",
   "execution_count": 1,
   "id": "78f4112a-4976-4e06-85d3-c310997b69c8",
   "metadata": {},
   "outputs": [
    {
     "name": "stdout",
     "output_type": "stream",
     "text": [
      "Overwriting app.py\n"
     ]
    }
   ],
   "source": [
    "%%writefile app.py\n",
    "import streamlit as st\n",
    "import pandas as pd\n",
    "import seaborn as sns\n",
    "import matplotlib.pyplot as plt\n",
    "from sklearn.datasets import load_iris\n",
    "\n",
    "# Load Iris dataset\n",
    "iris = load_iris()\n",
    "df = pd.DataFrame(iris.data, columns=iris.feature_names)\n",
    "df['species'] = pd.Categorical.from_codes(iris.target, iris.target_names)\n",
    "\n",
    "# Streamlit App\n",
    "st.title(\"🌼 Iris Data Visualizations\")\n",
    "st.markdown(\"Explore the Iris dataset with two powerful visualization techniques.\")\n",
    "\n",
    "# Scatter Plot\n",
    "st.subheader(\"🔍 Scatter Plot\")\n",
    "x_axis = st.selectbox(\"Select X-axis\", iris.feature_names)\n",
    "y_axis = st.selectbox(\"Select Y-axis\", iris.feature_names, index=1)\n",
    "\n",
    "fig1, ax1 = plt.subplots()\n",
    "sns.scatterplot(data=df, x=x_axis, y=y_axis, hue='species', palette='Set2', ax=ax1)\n",
    "st.pyplot(fig1)\n",
    "\n",
    "# Heatmap\n",
    "st.subheader(\"🔥 Feature Correlation Heatmap\")\n",
    "fig2, ax2 = plt.subplots()\n",
    "sns.heatmap(df[iris.feature_names].corr(), annot=True, cmap='coolwarm', ax=ax2)\n",
    "st.pyplot(fig2)"
   ]
  },
  {
   "cell_type": "code",
   "execution_count": null,
   "id": "f7c2e99b-557b-4064-81e2-5fd41f6f94b6",
   "metadata": {},
   "outputs": [],
   "source": [
    "! streamlit run app.py"
   ]
  },
  {
   "cell_type": "code",
   "execution_count": null,
   "id": "787d8b50-7a72-4956-aacc-14f688a0bde4",
   "metadata": {},
   "outputs": [],
   "source": []
  }
 ],
 "metadata": {
  "kernelspec": {
   "display_name": "Python 3 (ipykernel)",
   "language": "python",
   "name": "python3"
  },
  "language_info": {
   "codemirror_mode": {
    "name": "ipython",
    "version": 3
   },
   "file_extension": ".py",
   "mimetype": "text/x-python",
   "name": "python",
   "nbconvert_exporter": "python",
   "pygments_lexer": "ipython3",
   "version": "3.12.7"
  }
 },
 "nbformat": 4,
 "nbformat_minor": 5
}
